{
 "cells": [
  {
   "cell_type": "markdown",
   "metadata": {},
   "source": [
    "# Installation (on your own computer)"
   ]
  },
  {
   "cell_type": "markdown",
   "metadata": {},
   "source": [
    "If you'd like to be able to use your own personal computer for working on this course, here are the things we recommend you install. \n",
    "\n",
    "You can also follow these instructions to install this software on the lab computers for a single-session use, but the installation won't persist between sessions. Also note that other files won't persist between sessions - any files, including notebooks, that you create on a lab computer will need to be backed up elsewhere. "
   ]
  },
  {
   "cell_type": "markdown",
   "metadata": {},
   "source": [
    "## Python using Anaconda / Miniconda"
   ]
  },
  {
   "cell_type": "markdown",
   "metadata": {},
   "source": [
    "You should install Python 3 (specifically, you will probably get Python 3.6). The easiest way to get all the scientific libraries working is with conda.\n",
    "\n",
    "You can install _either_:\n",
    "\n",
    "* Anaconda : https://www.anaconda.com/download . This is a large download - over 500MB. It includes the majority of scientific libraries we'll use, so it's an easy way to get everything. Install the Python 3.6 version.\n",
    "* Miniconda : https://conda.io/miniconda.html . This is a much smaller download and will take much less disk space. After it's installed, you can use `conda` to install any specific libraries you need - this can always be done as we go. Install the Python 3.6 version.\n",
    "\n",
    "You do not need both Anaconda and Miniconda, just one.\n",
    "\n",
    "Once you have either Anaconda or Miniconda installed, you can use `conda` to install further libraries. See https://conda.io/docs/user-guide/ for documentation. \n",
    "\n",
    "Conda organises packages into \"channels\". Very often the libraries we want will be in the conda-forge channel. For instance, to install a version of numpy from the conda-forge channel, run the following at the command line:\n",
    "\n",
    "`conda install -c conda-forge numpy`\n",
    "\n",
    "By the way, conda works for non-Python packages, and there is a bioconda channel which contains many pieces of bioinformatics software. For instance you can run\n",
    "\n",
    "`conda install -c bioconda samtools`"
   ]
  },
  {
   "cell_type": "markdown",
   "metadata": {},
   "source": [
    "### Install libraries "
   ]
  },
  {
   "cell_type": "markdown",
   "metadata": {},
   "source": [
    "If you've installed Miniconda (as opposed to Anaconda), you won't have all the scientific libraries installed and will need to install them as you need them. This command will install a useful starter set:\n",
    "\n",
    "`conda install -c conda-forge numpy scipy matplotlib seaborn biopython scikit-bio jupyterlab pandas`"
   ]
  },
  {
   "cell_type": "markdown",
   "metadata": {},
   "source": [
    "You can also of course install any of the above libraries individually, e.g.\n",
    "\n",
    "`conda install -c conda-forge jupyterlab`"
   ]
  },
  {
   "cell_type": "markdown",
   "metadata": {},
   "source": [
    "If you would like the Table of Contents extension for JupyterLab, you can install it with\n",
    "\n",
    "```jupyter labextension install @jupyterlab/toc```"
   ]
  },
  {
   "cell_type": "markdown",
   "metadata": {},
   "source": [
    "## Launch Jupyter"
   ]
  },
  {
   "cell_type": "markdown",
   "metadata": {},
   "source": [
    "Depending on your operating system you may have one or both of the following options:\n",
    "\n",
    "Option 1: Open the program \"Anaconda Navigator\" if it is installed, and click the Jupyter Lab button. Anaconda Navigator is a graphical application for conda, and will also let you install packages.\n",
    "\n",
    "Option 2: Open a shell terminal and type `jupyter lab` (or `jupyter notebook` if you prefer that). If you've just installed Jupyter you may need to open a new terminal window before this command will work."
   ]
  },
  {
   "cell_type": "markdown",
   "metadata": {},
   "source": [
    "## Git "
   ]
  },
  {
   "cell_type": "markdown",
   "metadata": {},
   "source": [
    "Git is used to track and manipulate versions of software as it is developed, and to work collaboratively with other people when writing software. It's currently the most popular versioning tool. It is essential knowledge if you plan to develop open-source software in the bioinformatics world."
   ]
  },
  {
   "cell_type": "markdown",
   "metadata": {},
   "source": [
    "We will be making use of GitHub (http://github.com/) and it will be helpful to install git. Download the package at https://git-scm.com/downloads . It is possible to download workshop files without git (see below)."
   ]
  },
  {
   "cell_type": "markdown",
   "metadata": {},
   "source": [
    "## Get workshop files "
   ]
  },
  {
   "cell_type": "markdown",
   "metadata": {},
   "source": [
    "If you have git installed, you can get a local copy of workshop files by cloning the repository:\n",
    "\n",
    "```\n",
    "git clone https://github.com/claresloggett/comp90014_workshops\n",
    "cd comp90014_workshops\n",
    "```\n",
    "\n",
    "You will later be able to download any new or changed files with \n",
    "\n",
    "```\n",
    "git pull\n",
    "```\n",
    "\n",
    "If you *don't* have git installed (or even if you do) you can navigate your browser to https://github.com/claresloggett/comp90014_workshops and click the green \"Clone or download\" button and then \"Download ZIP\" to download a zipfile of all files.\n",
    "\n",
    "To open a downloaded notebook file (e.g. `Week1.ipynb`), you can navigate to it in JupyterLab file's viewer and double-click it. \n",
    "\n",
    "If you're running JupyterLab, you can also drag-and-drop a downloaded notebook file into the file viewer. This will copy the file to the working directory, and if you're using JupyterLab on the server, will upload the file."
   ]
  },
  {
   "cell_type": "code",
   "execution_count": null,
   "metadata": {},
   "outputs": [],
   "source": []
  }
 ],
 "metadata": {
  "kernelspec": {
   "display_name": "Python 3",
   "language": "python",
   "name": "python3"
  },
  "language_info": {
   "codemirror_mode": {
    "name": "ipython",
    "version": 3
   },
   "file_extension": ".py",
   "mimetype": "text/x-python",
   "name": "python",
   "nbconvert_exporter": "python",
   "pygments_lexer": "ipython3",
   "version": "3.6.3"
  }
 },
 "nbformat": 4,
 "nbformat_minor": 2
}
