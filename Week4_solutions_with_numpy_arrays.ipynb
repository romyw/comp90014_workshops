{
 "cells": [
  {
   "cell_type": "markdown",
   "metadata": {},
   "source": [
    "# Week 4 - k-means clustering"
   ]
  },
  {
   "cell_type": "markdown",
   "metadata": {},
   "source": [
    "In this lab we'll implement the k-means algorithm.\n",
    "\n",
    "This notebook shows solutions using **numpy arrays**. (Exercise descriptions, docstrings etc all still describe the solution using lists and tuples.) Using numpy arrays requires a bit of extra knowledge compared to the main solutions notebook. However numpy is extremely useful for scientific programming in Python. \n",
    "\n",
    "In these solutions we're passing arrays around instead of lists of tuples. So our example data becomes:"
   ]
  },
  {
   "cell_type": "code",
   "execution_count": 10,
   "metadata": {},
   "outputs": [],
   "source": [
    "import numpy as np"
   ]
  },
  {
   "cell_type": "code",
   "execution_count": 6,
   "metadata": {},
   "outputs": [],
   "source": [
    "# Five two-dimensional points\n",
    "example_data_2d = [(2,3),(5,3.4),(1.3,0.2),(3.1,3),(2.2,4)]\n",
    "example_data_2d = np.array(example_data_2d)\n",
    "\n",
    "# Five three-dimensional points\n",
    "example_data_3d = [(2,3,1.2),(5,3.4,4),(1.3,0.2,5.2),(3.1,3,3),(2.2,4,2)]\n",
    "example_data_3d = np.array(example_data_3d)"
   ]
  },
  {
   "cell_type": "code",
   "execution_count": 7,
   "metadata": {},
   "outputs": [
    {
     "data": {
      "text/plain": [
       "array([[ 2. ,  3. ],\n",
       "       [ 5. ,  3.4],\n",
       "       [ 1.3,  0.2],\n",
       "       [ 3.1,  3. ],\n",
       "       [ 2.2,  4. ]])"
      ]
     },
     "execution_count": 7,
     "metadata": {},
     "output_type": "execute_result"
    }
   ],
   "source": [
    "example_data_2d"
   ]
  },
  {
   "cell_type": "code",
   "execution_count": 8,
   "metadata": {},
   "outputs": [
    {
     "data": {
      "text/plain": [
       "array([[ 2. ,  3. ,  1.2],\n",
       "       [ 5. ,  3.4,  4. ],\n",
       "       [ 1.3,  0.2,  5.2],\n",
       "       [ 3.1,  3. ,  3. ],\n",
       "       [ 2.2,  4. ,  2. ]])"
      ]
     },
     "execution_count": 8,
     "metadata": {},
     "output_type": "execute_result"
    }
   ],
   "source": [
    "example_data_3d"
   ]
  },
  {
   "cell_type": "code",
   "execution_count": 11,
   "metadata": {},
   "outputs": [
    {
     "data": {
      "text/plain": [
       "1.3"
      ]
     },
     "execution_count": 11,
     "metadata": {},
     "output_type": "execute_result"
    }
   ],
   "source": [
    "# Just like Python lists, arrays are zero-indexed\n",
    "# First coordinate (\"x coordinate\") of the third point:\n",
    "example_data_2d[2,0]"
   ]
  },
  {
   "cell_type": "code",
   "execution_count": 12,
   "metadata": {},
   "outputs": [
    {
     "data": {
      "text/plain": [
       "(5, 2)"
      ]
     },
     "execution_count": 12,
     "metadata": {},
     "output_type": "execute_result"
    }
   ],
   "source": [
    "# 5 points, 2 dimensions\n",
    "example_data_2d.shape"
   ]
  },
  {
   "cell_type": "markdown",
   "metadata": {},
   "source": [
    "These algorithms can be written more efficiently using numpy arrays. All the hints are set up to assume that you will write your functions using lists of tuples, but if you're experienced with Python, you can try using numpy arrays instead. Numpy implements vectorised maths and so it will be faster to run, and in many cases more concise to write."
   ]
  },
  {
   "cell_type": "code",
   "execution_count": 9,
   "metadata": {},
   "outputs": [],
   "source": [
    "% matplotlib inline\n",
    "import matplotlib.pyplot as plt"
   ]
  },
  {
   "cell_type": "markdown",
   "metadata": {},
   "source": [
    "## Data "
   ]
  },
  {
   "cell_type": "markdown",
   "metadata": {},
   "source": [
    "We'll use 2D data points so it's easy to visualise our results. This code generates some \"real\" clusters probabilistically, and a smattering of random points all over the space."
   ]
  },
  {
   "cell_type": "code",
   "execution_count": 13,
   "metadata": {},
   "outputs": [],
   "source": [
    "# cluster 3 is a little more widely spread than clusters 1 and 2\n",
    "\n",
    "# cluster1 is centred at (1,1) and has standard deviation 0.2, and 20 points\n",
    "cluster1 = np.random.randn(20,2)*0.2+np.array([[1,1]])\n",
    "cluster2 = np.random.randn(20,2)*0.3+np.array([[2,1]])\n",
    "cluster3 = np.random.randn(20,2)*0.2+np.array([[1.5,2]])\n",
    "background = np.random.uniform(low=[0,0],high=[3,3],size=(30,2))"
   ]
  },
  {
   "cell_type": "code",
   "execution_count": 14,
   "metadata": {},
   "outputs": [
    {
     "name": "stdout",
     "output_type": "stream",
     "text": [
      "[[ 0.92861439  1.1449852 ]\n",
      " [ 1.19387549  0.7846904 ]\n",
      " [ 1.0396265   1.18812744]\n",
      " [ 1.02491086  0.99236857]\n",
      " [ 1.10591285  0.84523391]]\n"
     ]
    }
   ],
   "source": [
    "points = np.concatenate([cluster1,cluster2,cluster3,background])\n",
    "# We'll represent the points as a list of tuples\n",
    "#points = [tuple(p) for p in points_array]\n",
    "# Show the first five\n",
    "print(points[:5])"
   ]
  },
  {
   "cell_type": "code",
   "execution_count": 15,
   "metadata": {},
   "outputs": [
    {
     "data": {
      "text/plain": [
       "<matplotlib.collections.PathCollection at 0x10deab0f0>"
      ]
     },
     "execution_count": 15,
     "metadata": {},
     "output_type": "execute_result"
    },
    {
     "data": {
      "image/png": "[encoded data removed]",
      "text/plain": [
       "<Figure size 432x288 with 1 Axes>"
      ]
     },
     "metadata": {},
     "output_type": "display_data"
    }
   ],
   "source": [
    "# Plot the points\n",
    "# points[:,0] will retrieve all points (:), but only the first (x) coordinate (0)\n",
    "\n",
    "plt.scatter(points[:,0], points[:,1])"
   ]
  },
  {
   "cell_type": "markdown",
   "metadata": {},
   "source": [
    "## K-means "
   ]
  },
  {
   "cell_type": "markdown",
   "metadata": {},
   "source": [
    "The function to initialise centroids is provided for you. This function returns a list of k centroids, randomly placed. Notice that it is completely random - we could improve this function by trying to space the centroids far apart from one another."
   ]
  },
  {
   "cell_type": "code",
   "execution_count": 16,
   "metadata": {},
   "outputs": [],
   "source": [
    "# Now takes in data as numpy array, and returns centroids as numpy array\n",
    "def initialise_centroids(data, k):\n",
    "    \"\"\"\n",
    "    Place centroids randomly into range of data of arbitrary dimension.\n",
    "    Takes a list of N data points.\n",
    "    Returns a list of k centroids, each of which will be a tuple of the same\n",
    "    dimensionality as the data points.\n",
    "    \"\"\"\n",
    "    d = data.shape[1]\n",
    "    arr = np.array(data)\n",
    "    minvals = np.min(data,axis=0)\n",
    "    maxvals = np.max(data,axis=0)\n",
    "    centroids = np.random.uniform(low=minvals,high=maxvals,size=(k,d))\n",
    "    return centroids"
   ]
  },
  {
   "cell_type": "markdown",
   "metadata": {},
   "source": [
    "**Exercise 1:**\n",
    "\n",
    "Complete the function `assign_points()`. Given a list of k centroids and a list of N points, find which is the closest centroid to each point. Your function should return a list of N integers. Each integer should be a number from 0 to k-1, corresponding to the closest centroid for that point."
   ]
  },
  {
   "cell_type": "code",
   "execution_count": 17,
   "metadata": {},
   "outputs": [
    {
     "name": "stdout",
     "output_type": "stream",
     "text": [
      "2.82842712475\n"
     ]
    }
   ],
   "source": [
    "# This function is provided for you. It calculates Euclidean distance between two points.\n",
    "from kmeans_utilities import euclidean_distance\n",
    "print(euclidean_distance((1,1),(3,3)))"
   ]
  },
  {
   "cell_type": "code",
   "execution_count": 20,
   "metadata": {},
   "outputs": [],
   "source": [
    "# Now takes in centroids and data as numpy arrays of shape (k,d) and (N,d),\n",
    "# and returns an array of length N specifying the closest centroids\n",
    "\n",
    "def assign_points(centroids, data):\n",
    "    \"\"\"\n",
    "    Assign each point to its closest centroid.\n",
    "    Takes in a list of k centroids and a list of N data points.\n",
    "    Should return a list of N ints, each a number from 0 to k-1,\n",
    "    representing the index of the closest cluster.\n",
    "    \"\"\"\n",
    "    # subtract distances, square, sum along d-dimension, square root. gives array k by d\n",
    "    # use numpy broadcasting to make dimensions of both arrays match [centroid,point,dimension] (i.e. [k,N,d])\n",
    "    vectors_data_to_centroids = centroids[:,np.newaxis,:] - data[np.newaxis,:,:]\n",
    "    # square then sum over the dimension axis to get Euclidean distance\n",
    "    # the resulting array all_distances is of shape (k,d)\n",
    "    all_distances = np.sqrt(np.sum(vectors_data_to_centroids**2,axis=2))\n",
    "    # for each point, pick minimum distance centroid. argmin gives the index of the minumum value\n",
    "    closest_centroids = np.argmin(all_distances, axis=0)\n",
    "    return closest_centroids"
   ]
  },
  {
   "cell_type": "code",
   "execution_count": 21,
   "metadata": {},
   "outputs": [
    {
     "data": {
      "text/plain": [
       "array([0, 1, 0, 1, 1])"
      ]
     },
     "execution_count": 21,
     "metadata": {},
     "output_type": "execute_result"
    }
   ],
   "source": [
    "# Should return [0, 1, 0, 1, 1]\n",
    "example_centroids = np.array([(2,2),(4,4)])\n",
    "assign_points(example_centroids, example_data_2d)"
   ]
  },
  {
   "cell_type": "code",
   "execution_count": 22,
   "metadata": {},
   "outputs": [
    {
     "data": {
      "text/plain": [
       "array([1, 0, 1, 1, 1])"
      ]
     },
     "execution_count": 22,
     "metadata": {},
     "output_type": "execute_result"
    }
   ],
   "source": [
    "# Should return [1, 0, 1, 1, 1]\n",
    "example_centroids = np.array([(5,2,0),(3,1,1)])\n",
    "assign_points(example_centroids, example_data_3d)"
   ]
  },
  {
   "cell_type": "markdown",
   "metadata": {},
   "source": [
    "**Exercise 2:**\n",
    "\n",
    "Complete the function `calculate_mean_centroids()`. This function should take in the list of data points, the list of assignments to clusters, and k, and return the a list of centroids.\n",
    "\n",
    "The function `points_average()` is provided for you. Given a list of points, it finds the mean. You need to pass it the correct points for each cluster."
   ]
  },
  {
   "cell_type": "code",
   "execution_count": 27,
   "metadata": {},
   "outputs": [],
   "source": [
    "# This function is provided for you\n",
    "\n",
    "# Notice we now use average_point_array not average_point - this is the\n",
    "# same but returns a 1D array instead of a tuple to represent the coordinate\n",
    "\n",
    "from kmeans_utilities import average_point_array"
   ]
  },
  {
   "cell_type": "code",
   "execution_count": 28,
   "metadata": {},
   "outputs": [],
   "source": [
    "# Data and assignments should now both be arrays, and centroids returned\n",
    "# will be an array with shape (k,d)\n",
    "# This solution isn't much more vectorised than the non-array version, \n",
    "# as we still have to iterate over clusters\n",
    "\n",
    "def calculate_mean_centroids(data, assignments, k):\n",
    "    \"\"\"\n",
    "    Take data of shape (N,d) and assignments of shape (N) and\n",
    "    return centroids array of shape (k,d).\n",
    "    \"\"\"\n",
    "    assert np.max(assignments) < k\n",
    "    centroid_list = [average_point_array(data[assignments==c,:]) for c in range(k)]\n",
    "    centroids = np.concatenate([centroid[np.newaxis,:] for centroid in centroid_list])\n",
    "    return centroids\n"
   ]
  },
  {
   "cell_type": "code",
   "execution_count": 30,
   "metadata": {},
   "outputs": [
    {
     "data": {
      "text/plain": [
       "array([[ 1.65      ,  1.6       ],\n",
       "       [ 3.43333333,  3.46666667]])"
      ]
     },
     "execution_count": 30,
     "metadata": {},
     "output_type": "execute_result"
    }
   ],
   "source": [
    "# Should return centroids [( 1.65,  1.6 ), (3.43333333,  3.46666667)]\n",
    "calculate_mean_centroids(example_data_2d, np.array([0, 1, 0, 1, 1]), 2)"
   ]
  },
  {
   "cell_type": "code",
   "execution_count": 31,
   "metadata": {},
   "outputs": [
    {
     "data": {
      "text/plain": [
       "array([[ 5.  ,  3.4 ,  4.  ],\n",
       "       [ 2.15,  2.55,  2.85]])"
      ]
     },
     "execution_count": 31,
     "metadata": {},
     "output_type": "execute_result"
    }
   ],
   "source": [
    "# Should return centroids [(5, 3.34, 4), (2.15,2.55,2.85)]\n",
    "calculate_mean_centroids(example_data_3d, np.array([1, 0, 1, 1, 1]), 2)"
   ]
  },
  {
   "cell_type": "markdown",
   "metadata": {},
   "source": [
    "**Exercise 3:**\n",
    "\n",
    "Complete the `kmeans()` function to carry out k-means clustering. You can use the functions you created in the first two exercises. You only need to fill in the missing lines in the iterative loop."
   ]
  },
  {
   "cell_type": "code",
   "execution_count": 47,
   "metadata": {},
   "outputs": [],
   "source": [
    "# Instead of importing plot_kmeans, here's a version that uses arrays \n",
    "\n",
    "def plot_kmeans(data, centroids, assignments, k):\n",
    "    for cluster in range(k):\n",
    "        cluster_points = data[assignments==cluster, :]\n",
    "        plt.scatter(cluster_points[:,0],cluster_points[:,1])\n",
    "    # draw centroids\n",
    "    plt.scatter(centroids[:,0],centroids[:,1],marker='x',s=80,c='k')\n",
    "    plt.show()"
   ]
  },
  {
   "cell_type": "code",
   "execution_count": 35,
   "metadata": {},
   "outputs": [],
   "source": [
    "# Input data should now be an array of shape (N,d) representing the points\n",
    "\n",
    "# We no longer need the points_equal function to make the code more readable \n",
    "# - it's pretty easy to calculate if all points are equal with numpy subtraction\n",
    "\n",
    "def kmeans(data, k):\n",
    "    \"\"\"\n",
    "    Implement k-means clustering on a given set of points.\n",
    "    data should be a list of N points, where each point is a tuple.\n",
    "    Returns a tuple of (centroids, cluster_assignments)\n",
    "    where \n",
    "    centroids is a list of centroid points, and each centroid is a tuple\n",
    "    cluster_assignments a list of N numbers representing cluster assignments,\n",
    "     where each number is between 0 and k-1.\n",
    "    \"\"\"\n",
    "    epsilon = 0.001\n",
    "    N, d = data.shape\n",
    "    centroids = initialise_centroids(data, k)\n",
    "    cluster_assignments = assign_points(centroids, data)\n",
    "    old_centroids = centroids - 1 # ensure not equal at start\n",
    "    # This uses subtraction of entire arrays (via numpy)\n",
    "    # to check that all centroid coordinates match previous values\n",
    "    while not np.all(centroids - old_centroids < epsilon):\n",
    "        old_centroids = centroids\n",
    "        centroids = calculate_mean_centroids(data, cluster_assignments, k)\n",
    "        cluster_assignments = assign_points(centroids, data)\n",
    "    return (centroids, cluster_assignments)"
   ]
  },
  {
   "cell_type": "code",
   "execution_count": 36,
   "metadata": {},
   "outputs": [
    {
     "data": {
      "text/plain": [
       "(array([[ 1.3  ,  0.2  ],\n",
       "        [ 3.075,  3.35 ]]), array([1, 1, 0, 1, 1]))"
      ]
     },
     "execution_count": 36,
     "metadata": {},
     "output_type": "execute_result"
    }
   ],
   "source": [
    "# Answer can be random depending on random initialisation. \n",
    "# Likely solutions are:\n",
    "# centroids [(1.3,0.2),(3.075,3.35)]\n",
    "# cluster assignments [1, 1, 0, 1, 1] or [0, 0, 1, 0, 0]\n",
    "#  OR\n",
    "# centroids [(2.1,3.5),(3.1333,2.2)]\n",
    "# cluster assignments [0, 1, 1, 1, 0] or [1, 0, 0, 0, 1]\n",
    "#  OR\n",
    "# centroids [(5,3.4),(2.15,2.55)]\n",
    "# cluster assignments [1, 0, 1, 1, 1] or [0, 1, 0, 0, 0]\n",
    "\n",
    "kmeans(example_data_2d,2)"
   ]
  },
  {
   "cell_type": "markdown",
   "metadata": {},
   "source": [
    "Now test on the 2D data we created at the top of the notebook:"
   ]
  },
  {
   "cell_type": "code",
   "execution_count": 37,
   "metadata": {},
   "outputs": [
    {
     "name": "stdout",
     "output_type": "stream",
     "text": [
      "[[ 0.9052757   0.94465108]\n",
      " [ 1.51522242  2.12672629]\n",
      " [ 2.09518476  1.00673772]]\n",
      "[0 0 0 0 0 0 0 0 0 0 0 0 0 0 0 0 0 0 0 0 2 2 2 2 2 2 2 2 2 2 2 2 2 2 2 2 2\n",
      " 2 2 2 1 1 1 1 1 1 1 1 1 1 1 2 1 1 1 1 1 1 1 1 0 1 0 0 2 1 0 2 2 2 2 2 1 0\n",
      " 1 0 1 2 1 0 1 0 1 0 0 2 0 1 0 2]\n"
     ]
    }
   ],
   "source": [
    "k = 3\n",
    "centroids, assignments = kmeans(points, k)\n",
    "print(centroids)\n",
    "print(assignments)"
   ]
  },
  {
   "cell_type": "code",
   "execution_count": 48,
   "metadata": {},
   "outputs": [
    {
     "data": {
      "image/png": "[encoded data removed]",
      "text/plain": [
       "<Figure size 432x288 with 1 Axes>"
      ]
     },
     "metadata": {},
     "output_type": "display_data"
    }
   ],
   "source": [
    "plot_kmeans(points, centroids, assignments, k)"
   ]
  },
  {
   "cell_type": "code",
   "execution_count": null,
   "metadata": {},
   "outputs": [],
   "source": []
  }
 ],
 "metadata": {
  "kernelspec": {
   "display_name": "Python 3",
   "language": "python",
   "name": "python3"
  },
  "language_info": {
   "codemirror_mode": {
    "name": "ipython",
    "version": 3
   },
   "file_extension": ".py",
   "mimetype": "text/x-python",
   "name": "python",
   "nbconvert_exporter": "python",
   "pygments_lexer": "ipython3",
   "version": "3.6.3"
  }
 },
 "nbformat": 4,
 "nbformat_minor": 2
}
