{
 "cells": [
  {
   "cell_type": "code",
   "execution_count": 1,
   "metadata": {},
   "outputs": [],
   "source": [
    "from math import inf"
   ]
  },
  {
   "cell_type": "code",
   "execution_count": 3,
   "metadata": {},
   "outputs": [
    {
     "ename": "NameError",
     "evalue": "name 'nucleotides' is not defined",
     "output_type": "error",
     "traceback": [
      "\u001b[0;31m---------------------------------------------------------------------------\u001b[0m",
      "\u001b[0;31mNameError\u001b[0m                                 Traceback (most recent call last)",
      "\u001b[0;32m<ipython-input-3-30378845be13>\u001b[0m in \u001b[0;36m<module>\u001b[0;34m()\u001b[0m\n\u001b[1;32m      1\u001b[0m \u001b[0mc\u001b[0m \u001b[0;34m=\u001b[0m \u001b[0mdict\u001b[0m\u001b[0;34m(\u001b[0m\u001b[0;34m)\u001b[0m\u001b[0;34m\u001b[0m\u001b[0m\n\u001b[0;32m----> 2\u001b[0;31m \u001b[0;32mfor\u001b[0m \u001b[0mnt1\u001b[0m \u001b[0;32min\u001b[0m \u001b[0mnucleotides\u001b[0m\u001b[0;34m:\u001b[0m\u001b[0;34m\u001b[0m\u001b[0m\n\u001b[0m\u001b[1;32m      3\u001b[0m     \u001b[0mc\u001b[0m\u001b[0;34m[\u001b[0m\u001b[0mnt1\u001b[0m\u001b[0;34m]\u001b[0m \u001b[0;34m=\u001b[0m \u001b[0mdict\u001b[0m\u001b[0;34m(\u001b[0m\u001b[0;34m)\u001b[0m\u001b[0;34m\u001b[0m\u001b[0m\n\u001b[1;32m      4\u001b[0m     \u001b[0;32mfor\u001b[0m \u001b[0mnt2\u001b[0m \u001b[0;32min\u001b[0m \u001b[0mnucleotides\u001b[0m\u001b[0;34m:\u001b[0m\u001b[0;34m\u001b[0m\u001b[0m\n\u001b[1;32m      5\u001b[0m         \u001b[0;31m# no change\u001b[0m\u001b[0;34m\u001b[0m\u001b[0;34m\u001b[0m\u001b[0m\n",
      "\u001b[0;31mNameError\u001b[0m: name 'nucleotides' is not defined"
     ]
    }
   ],
   "source": [
    "\n",
    "\n",
    "c = dict()\n",
    "for nt1 in nucleotides:\n",
    "    c[nt1] = dict()\n",
    "    for nt2 in nucleotides:\n",
    "        # no change\n",
    "        if nt1 == nt2:\n",
    "            c[nt1][nt2] = 0.0\n",
    "        # transition\n",
    "        elif (nt1 in purines and nt2 in purines) or (nt1 in pyrimidines and nt2 in pyrimidines):\n",
    "            c[nt1][nt2] = 1.0\n",
    "        # transversion\n",
    "        else:\n",
    "            c[nt1][nt2] = 2.5"
   ]
  },
  {
   "cell_type": "code",
   "execution_count": 4,
   "metadata": {},
   "outputs": [],
   "source": [
    "purines = ['A', 'G']\n",
    "pyrimidines = ['C', 'T']\n",
    "nucleotides = purines + pyrimidines\n",
    "\n",
    "c = dict()\n",
    "for nt1 in nucleotides:\n",
    "    c[nt1] = dict()\n",
    "    for nt2 in nucleotides:\n",
    "        # no change\n",
    "        if nt1 == nt2:\n",
    "            c[nt1][nt2] = 0.0\n",
    "        # transition\n",
    "        elif (nt1 in purines and nt2 in purines) or (nt1 in pyrimidines and nt2 in pyrimidines):\n",
    "            c[nt1][nt2] = 1.0\n",
    "        # transversion\n",
    "        else:\n",
    "            c[nt1][nt2] = 2.5"
   ]
  },
  {
   "cell_type": "code",
   "execution_count": 5,
   "metadata": {},
   "outputs": [
    {
     "data": {
      "text/plain": [
       "{'A': {'A': 0.0, 'G': 1.0, 'C': 2.5, 'T': 2.5},\n",
       " 'G': {'A': 1.0, 'G': 0.0, 'C': 2.5, 'T': 2.5},\n",
       " 'C': {'A': 2.5, 'G': 2.5, 'C': 0.0, 'T': 1.0},\n",
       " 'T': {'A': 2.5, 'G': 2.5, 'C': 1.0, 'T': 0.0}}"
      ]
     },
     "execution_count": 5,
     "metadata": {},
     "output_type": "execute_result"
    }
   ],
   "source": [
    "c"
   ]
  },
  {
   "cell_type": "code",
   "execution_count": 6,
   "metadata": {},
   "outputs": [
    {
     "data": {
      "text/plain": [
       "1.0"
      ]
     },
     "execution_count": 6,
     "metadata": {},
     "output_type": "execute_result"
    }
   ],
   "source": [
    "c['A']['G']"
   ]
  },
  {
   "cell_type": "code",
   "execution_count": null,
   "metadata": {},
   "outputs": [],
   "source": [
    "def init_tree(num_tips):\n",
    "    \"\"\"\n",
    "    \"\"\"\n",
    "    tree = dict()\n",
    "    \n",
    "    # create all the nodes\n",
    "    tree['root'] = dict()\n",
    "    for x in range(1, num_tips + 1):\n",
    "        tree['tip{}'.format(x)] = dict()\n",
    "    for x in range(1, num_tips + 1 - 2):\n",
    "        tree['int{}'.format(x)] = dict()\n",
    "    \n",
    "    # initialize node data\n",
    "    for node in tree:\n",
    "        for child in ['left', 'right']:\n",
    "            tree[node][child] = None\n",
    "        for nt in nucleotides:\n",
    "            tree[node][nt] = None\n",
    "    \n",
    "    return tree"
   ]
  }
 ],
 "metadata": {
  "kernelspec": {
   "display_name": "Python 3",
   "language": "python",
   "name": "python3"
  },
  "language_info": {
   "codemirror_mode": {
    "name": "ipython",
    "version": 3
   },
   "file_extension": ".py",
   "mimetype": "text/x-python",
   "name": "python",
   "nbconvert_exporter": "python",
   "pygments_lexer": "ipython3",
   "version": "3.6.5"
  }
 },
 "nbformat": 4,
 "nbformat_minor": 2
}
