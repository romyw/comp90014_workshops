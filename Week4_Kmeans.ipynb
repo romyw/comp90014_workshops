{
 "cells": [
  {
   "cell_type": "markdown",
   "metadata": {},
   "source": [
    "# Week 4 - k-means clustering"
   ]
  },
  {
   "cell_type": "markdown",
   "metadata": {},
   "source": [
    "In this lab we'll implement the k-means algorithm.\n",
    "\n",
    "We will represent points in the space as tuples, and use lists of tuples for our dataset, like so:"
   ]
  },
  {
   "cell_type": "code",
   "execution_count": 1,
   "metadata": {},
   "outputs": [],
   "source": [
    "# Five two-dimensional points\n",
    "example_data_2d = [(2,3),(5,3.4),(1.3,0.2),(3.1,3),(2.2,4)]\n",
    "\n",
    "# Five three-dimensional points\n",
    "example_data_3d = [(2,3,1.2),(5,3.4,4),(1.3,0.2,5.2),(3.1,3,3),(2.2,4,2)]"
   ]
  },
  {
   "cell_type": "markdown",
   "metadata": {},
   "source": [
    "These algorithms can be written more efficiently using numpy arrays. All the hints are set up to assume that you will write your functions using lists of tuples, but if you're experienced with Python, you can try using numpy arrays instead. Numpy implements vectorised maths and so it will be faster to run, and in many cases more concise to write."
   ]
  },
  {
   "cell_type": "code",
   "execution_count": 2,
   "metadata": {},
   "outputs": [],
   "source": [
    "% matplotlib inline\n",
    "import matplotlib.pyplot as plt\n",
    "import numpy as np"
   ]
  },
  {
   "cell_type": "markdown",
   "metadata": {},
   "source": [
    "## Data "
   ]
  },
  {
   "cell_type": "markdown",
   "metadata": {},
   "source": [
    "We'll use 2D data points so it's easy to visualise our results. This code generates some \"real\" clusters probabilistically, and a smattering of random points all over the space."
   ]
  },
  {
   "cell_type": "code",
   "execution_count": 3,
   "metadata": {},
   "outputs": [],
   "source": [
    "# cluster 3 is a little more widely spread than clusters 1 and 2\n",
    "\n",
    "# cluster1 is centred at (1,1) and has standard deviation 0.2, and 20 points\n",
    "cluster1 = np.random.randn(20,2)*0.2+np.array([[1,1]])\n",
    "cluster2 = np.random.randn(20,2)*0.3+np.array([[2,1]])\n",
    "cluster3 = np.random.randn(20,2)*0.2+np.array([[1.5,2]])\n",
    "background = np.random.uniform(low=[0,0],high=[3,3],size=(30,2))"
   ]
  },
  {
   "cell_type": "code",
   "execution_count": 4,
   "metadata": {},
   "outputs": [
    {
     "name": "stdout",
     "output_type": "stream",
     "text": [
      "[(0.66292216960963501, 1.2117571914033041), (1.2890524857633601, 1.2802507797152869), (1.1967819600247922, 0.89297353861837558), (1.3254452215609038, 0.70860062391125367), (1.0347146127701643, 0.90152021756674527)]\n"
     ]
    }
   ],
   "source": [
    "points_array = np.concatenate([cluster1,cluster2,cluster3,background])\n",
    "# We'll represent the points as a list of tuples\n",
    "points = [tuple(p) for p in points_array]\n",
    "# Show the first five\n",
    "print(points[:5])"
   ]
  },
  {
   "cell_type": "code",
   "execution_count": 5,
   "metadata": {},
   "outputs": [
    {
     "data": {
      "text/plain": [
       "<matplotlib.collections.PathCollection at 0x117631438>"
      ]
     },
     "execution_count": 5,
     "metadata": {},
     "output_type": "execute_result"
    },
    {
     "data": {
      "image/png": "[encoded data removed]",
      "text/plain": [
       "<Figure size 432x288 with 1 Axes>"
      ]
     },
     "metadata": {},
     "output_type": "display_data"
    }
   ],
   "source": [
    "# Plot the points\n",
    "# NB if using a numpy array instead of a list, we'd write\n",
    "#   plt.scatter(points[:,0],points[:,1])\n",
    "\n",
    "x_values = [x for (x,y) in points]\n",
    "y_values = [y for (x,y) in points]\n",
    "plt.scatter(x_values, y_values)"
   ]
  },
  {
   "cell_type": "markdown",
   "metadata": {},
   "source": [
    "## K-means "
   ]
  },
  {
   "cell_type": "markdown",
   "metadata": {},
   "source": [
    "The function to initialise centroids is provided for you. This function returns a list of k centroids, randomly placed. Notice that it is completely random - we could improve this function by trying to space the centroids far apart from one another."
   ]
  },
  {
   "cell_type": "code",
   "execution_count": 6,
   "metadata": {},
   "outputs": [],
   "source": [
    "def initialise_centroids(data, k):\n",
    "    \"\"\"\n",
    "    Place centroids randomly into range of data of arbitrary dimension.\n",
    "    Takes a list of N data points.\n",
    "    Returns a list of k centroids, each of which will be a tuple of the same\n",
    "    dimensionality as the data points.\n",
    "    \"\"\"\n",
    "    d = len(data[0])\n",
    "    # Make the data into a numpy array\n",
    "    arr = np.array(data)\n",
    "    minvals = np.min(data,axis=0)\n",
    "    maxvals = np.max(data,axis=0)\n",
    "    centroids = np.random.uniform(low=minvals,high=maxvals,size=(k,d))\n",
    "    # Return our centroids as a list of tuples\n",
    "    return [tuple(c) for c in centroids]"
   ]
  },
  {
   "cell_type": "markdown",
   "metadata": {},
   "source": [
    "**Exercise 1:**\n",
    "\n",
    "Complete the function `assign_points()`. Given a list of k centroids and a list of N points, find which is the closest centroid to each point. Your function should return a list of N integers. Each integer should be a number from 0 to k-1, corresponding to the closest centroid for that point."
   ]
  },
  {
   "cell_type": "code",
   "execution_count": 7,
   "metadata": {},
   "outputs": [
    {
     "name": "stdout",
     "output_type": "stream",
     "text": [
      "2.82842712475\n"
     ]
    }
   ],
   "source": [
    "# This function is provided for you. It calculates Euclidean distance between two points.\n",
    "from kmeans_utilities import euclidean_distance\n",
    "print(euclidean_distance((1,1),(3,3)))"
   ]
  },
  {
   "cell_type": "code",
   "execution_count": 8,
   "metadata": {},
   "outputs": [],
   "source": [
    "def assign_points(centroids, data):\n",
    "    \"\"\"\n",
    "    Assign each point to its closest centroid.\n",
    "    Take in an array of shape (k,d) representing centroid coordinates,\n",
    "    and an array of shape (N,d) representing data coordinates.\n",
    "    Return a list or array of N values where each value is between 0 and k-1\n",
    "    and represents the centroid that the data point has been assigned to.\n",
    "    \"\"\"\n",
    "    # Here is code for a wrong answer, which just assigns every point to cluster 0\n",
    "    # (i.e. to the first centroid in the list).\n",
    "    # Change this code to assign points to their nearest centroids.\n",
    "    N = len(data)\n",
    "    closest_centroids = [0]*N\n",
    "    return closest_centroids"
   ]
  },
  {
   "cell_type": "code",
   "execution_count": null,
   "metadata": {},
   "outputs": [],
   "source": [
    "# Should return [0, 1, 0, 1, 1]\n",
    "example_centroids = [(2,2),(4,4)]\n",
    "assign_points(example_centroids, example_data_2d)"
   ]
  },
  {
   "cell_type": "code",
   "execution_count": null,
   "metadata": {},
   "outputs": [],
   "source": [
    "# Should return [1, 0, 1, 1, 1]\n",
    "example_centroids = [(5,2,0),(3,1,1)]\n",
    "assign_points(example_centroids, example_data_3d)"
   ]
  },
  {
   "cell_type": "markdown",
   "metadata": {},
   "source": [
    "**Exercise 2:**\n",
    "\n",
    "Complete the function `calculate_mean_centroids()`. This function should take in the list of data points, the list of assignments to clusters, and k, and return the a list of centroids.\n",
    "\n",
    "The function `points_average()` is provided for you. Given a list of points, it finds the mean. You need to pass it the correct points for each cluster."
   ]
  },
  {
   "cell_type": "code",
   "execution_count": 12,
   "metadata": {},
   "outputs": [],
   "source": [
    "# This function is provided for you\n",
    "from kmeans_utilities import average_point"
   ]
  },
  {
   "cell_type": "code",
   "execution_count": 13,
   "metadata": {},
   "outputs": [],
   "source": [
    "def calculate_mean_centroids(data, assignments, k):\n",
    "    \"\"\"\n",
    "    Take list of N data points (a list of tuples)  \n",
    "    and a list of N centroid assignments, \n",
    "    and return a list of k centroids.\n",
    "    \"\"\"\n",
    "    # Here is an incorrect solution that just sets each centroid to (0,0)\n",
    "    # (or (0,0,0), or (0,0,0,0) etc, depending on the dimension of the data points)\n",
    "    # Replace this code so that the averages are calculated for each cluster.\n",
    "    N = len(data)\n",
    "    d = len(data[0])\n",
    "    # Set points to zero (wrong!)\n",
    "    zero_centroid = tuple([0]*d)\n",
    "    centroids = [zero_centroid]*N\n",
    "    return centroids"
   ]
  },
  {
   "cell_type": "code",
   "execution_count": null,
   "metadata": {},
   "outputs": [],
   "source": [
    "# Should return centroids [( 1.65,  1.6 ), (3.43333333,  3.46666667)]\n",
    "calculate_mean_centroids(example_data_2d, [0, 1, 0, 1, 1], 2)"
   ]
  },
  {
   "cell_type": "code",
   "execution_count": null,
   "metadata": {},
   "outputs": [],
   "source": [
    "# Should return centroids [(5, 3.34, 4), (2.15,2.55,2.85)]\n",
    "calculate_mean_centroids(example_data_3d, [1, 0, 1, 1, 1], 2)"
   ]
  },
  {
   "cell_type": "markdown",
   "metadata": {},
   "source": [
    "**Exercise 3:**\n",
    "\n",
    "Complete the `kmeans()` function to carry out k-means clustering. You can use the functions you created in the first two exercises. You only need to fill in the missing lines in the iterative loop."
   ]
  },
  {
   "cell_type": "code",
   "execution_count": 17,
   "metadata": {},
   "outputs": [],
   "source": [
    "# These function is provided for you (and used already below)\n",
    "from kmeans_utilities import points_equal, plot_kmeans"
   ]
  },
  {
   "cell_type": "code",
   "execution_count": 18,
   "metadata": {},
   "outputs": [],
   "source": [
    "def kmeans(data, k):\n",
    "    \"\"\"\n",
    "    Implement k-means clustering on a given set of points.\n",
    "    data should be a list of N points, where each point is a tuple.\n",
    "    Returns a tuple of (centroids, cluster_assignments)\n",
    "    where \n",
    "    centroids is a list of centroid points, and each centroid is a tuple\n",
    "    cluster_assignments a list of N numbers representing cluster assignments,\n",
    "     where each number is between 0 and k-1.\n",
    "    \"\"\"\n",
    "    N = len(data)\n",
    "    d = len(data[0])\n",
    "    centroids = initialise_centroids(data, k)\n",
    "    cluster_assignments = assign_points(centroids, data)\n",
    "    old_centroids = [(0,)*d]*k  # unlikely to be equal to centroids at start\n",
    "    while not points_equal(centroids,old_centroids):\n",
    "        old_centroids = centroids\n",
    "        ### YOUR CODE HERE: Fill in the iterative k-means steps \n",
    "        \n",
    "        ###\n",
    "        # Optionally, if you'd like to plot what is happening at each step, \n",
    "        # uncomment the following line\n",
    "        #plot_kmeans(data, centroids, assignments, k)\n",
    "    \n",
    "    return (centroids, cluster_assignments)\n"
   ]
  },
  {
   "cell_type": "code",
   "execution_count": null,
   "metadata": {},
   "outputs": [],
   "source": [
    "# Answer can be random depending on random initialisation. \n",
    "# Likely solutions are:\n",
    "# centroids [(1.3,0.2),(3.075,3.35)]\n",
    "# cluster assignments [1, 1, 0, 1, 1] or [0, 0, 1, 0, 0]\n",
    "#  OR\n",
    "# centroids [(2.1,3.5),(3.1333,2.2)]\n",
    "# cluster assignments [0, 1, 1, 1, 0] or [1, 0, 0, 0, 1]\n",
    "#  OR\n",
    "# centroids [(5,3.4),(2.15,2.55)]\n",
    "# cluster assignments [1, 0, 1, 1, 1] or [0, 1, 0, 0, 0]\n",
    "\n",
    "kmeans(example_data_2d,2)"
   ]
  },
  {
   "cell_type": "markdown",
   "metadata": {},
   "source": [
    "Now test on the 2D data we created at the top of the notebook:"
   ]
  },
  {
   "cell_type": "code",
   "execution_count": null,
   "metadata": {},
   "outputs": [],
   "source": [
    "k = 3\n",
    "centroids, assignments = kmeans(points, k)\n",
    "print(centroids)\n",
    "print(assignments)"
   ]
  },
  {
   "cell_type": "code",
   "execution_count": null,
   "metadata": {},
   "outputs": [],
   "source": [
    "plot_kmeans(points, centroids, assignments, k)"
   ]
  }
 ],
 "metadata": {
  "kernelspec": {
   "display_name": "Python 3",
   "language": "python",
   "name": "python3"
  },
  "language_info": {
   "codemirror_mode": {
    "name": "ipython",
    "version": 3
   },
   "file_extension": ".py",
   "mimetype": "text/x-python",
   "name": "python",
   "nbconvert_exporter": "python",
   "pygments_lexer": "ipython3",
   "version": "3.6.3"
  }
 },
 "nbformat": 4,
 "nbformat_minor": 2
}
