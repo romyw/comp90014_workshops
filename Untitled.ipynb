{
 "cells": [
  {
   "cell_type": "code",
   "execution_count": 1,
   "metadata": {},
   "outputs": [
    {
     "name": "stdout",
     "output_type": "stream",
     "text": [
      "<class 'int'>\n"
     ]
    }
   ],
   "source": [
    "x = 5\n",
    "print(type(x))"
   ]
  },
  {
   "cell_type": "code",
   "execution_count": 2,
   "metadata": {},
   "outputs": [
    {
     "name": "stdout",
     "output_type": "stream",
     "text": [
      "<class 'float'>\n"
     ]
    }
   ],
   "source": [
    "x = 5.5\n",
    "print(type(x))"
   ]
  },
  {
   "cell_type": "code",
   "execution_count": 4,
   "metadata": {},
   "outputs": [
    {
     "name": "stdout",
     "output_type": "stream",
     "text": [
      "<class 'str'>\n"
     ]
    }
   ],
   "source": [
    "dna_string = \"GACE\"\n",
    "print(type(dna_string))"
   ]
  },
  {
   "cell_type": "code",
   "execution_count": 7,
   "metadata": {},
   "outputs": [],
   "source": [
    "def double(number):\n",
    "    result = number * 2\n",
    "    return result"
   ]
  },
  {
   "cell_type": "code",
   "execution_count": 8,
   "metadata": {},
   "outputs": [
    {
     "name": "stdout",
     "output_type": "stream",
     "text": [
      "6\n"
     ]
    }
   ],
   "source": [
    "print(double(3))"
   ]
  },
  {
   "cell_type": "code",
   "execution_count": 9,
   "metadata": {},
   "outputs": [
    {
     "name": "stdout",
     "output_type": "stream",
     "text": [
      "128.0\n"
     ]
    }
   ],
   "source": [
    "def food(costs):\n",
    "    payment = costs / 2\n",
    "    return payment\n",
    "print(food(256))"
   ]
  },
  {
   "cell_type": "code",
   "execution_count": 12,
   "metadata": {},
   "outputs": [
    {
     "ename": "NameError",
     "evalue": "name 'GAC' is not defined",
     "output_type": "error",
     "traceback": [
      "\u001b[0;31m---------------------------------------------------------------------------\u001b[0m",
      "\u001b[0;31mNameError\u001b[0m                                 Traceback (most recent call last)",
      "\u001b[0;32m<ipython-input-12-a8c378a86732>\u001b[0m in \u001b[0;36m<module>\u001b[0;34m()\u001b[0m\n\u001b[1;32m      4\u001b[0m     \u001b[0;32melse\u001b[0m\u001b[0;34m:\u001b[0m\u001b[0;34m\u001b[0m\u001b[0m\n\u001b[1;32m      5\u001b[0m         \u001b[0mprint\u001b[0m \u001b[0;34m(\u001b[0m\u001b[0;34m'hamming distance = 1'\u001b[0m\u001b[0;34m)\u001b[0m\u001b[0;34m\u001b[0m\u001b[0m\n\u001b[0;32m----> 6\u001b[0;31m \u001b[0mprint\u001b[0m \u001b[0;34m(\u001b[0m\u001b[0mseq_align\u001b[0m\u001b[0;34m(\u001b[0m\u001b[0mGAC\u001b[0m\u001b[0;34m,\u001b[0m \u001b[0mGAT\u001b[0m\u001b[0;34m)\u001b[0m\u001b[0;34m)\u001b[0m\u001b[0;34m\u001b[0m\u001b[0m\n\u001b[0m",
      "\u001b[0;31mNameError\u001b[0m: name 'GAC' is not defined"
     ]
    }
   ],
   "source": [
    "def seq_align(para1, para2):\n",
    "    if para1 == para2:\n",
    "        print ('hamming distance = 0')\n",
    "    else:\n",
    "        print ('hamming distance = 1')\n",
    "print (seq_align(GAC, GAT))"
   ]
  },
  {
   "cell_type": "code",
   "execution_count": 15,
   "metadata": {},
   "outputs": [
    {
     "name": "stdout",
     "output_type": "stream",
     "text": [
      "hamming distance = 1\n",
      "None\n"
     ]
    }
   ],
   "source": [
    "para1 = \"GAC\"\n",
    "para2 = \"GAT\"\n",
    "def seq_align(para1, para2):\n",
    "    if para1 == para2:\n",
    "        print ('hamming distance = 0')\n",
    "    else:\n",
    "        print ('hamming distance = 1')\n",
    "print (seq_align(123, 132))"
   ]
  },
  {
   "cell_type": "code",
   "execution_count": 16,
   "metadata": {},
   "outputs": [
    {
     "name": "stdout",
     "output_type": "stream",
     "text": [
      "6\n"
     ]
    }
   ],
   "source": [
    "def double(number):\n",
    "    result = number * 2\n",
    "    return result\n",
    "print(double(3))"
   ]
  },
  {
   "cell_type": "code",
   "execution_count": 17,
   "metadata": {},
   "outputs": [
    {
     "name": "stdout",
     "output_type": "stream",
     "text": [
      "<class 'str'>\n"
     ]
    }
   ],
   "source": [
    "print(type(para1))"
   ]
  },
  {
   "cell_type": "code",
   "execution_count": 19,
   "metadata": {},
   "outputs": [
    {
     "name": "stdout",
     "output_type": "stream",
     "text": [
      "<class 'function'>\n"
     ]
    }
   ],
   "source": [
    "print(type(double))"
   ]
  },
  {
   "cell_type": "code",
   "execution_count": 22,
   "metadata": {},
   "outputs": [
    {
     "name": "stdout",
     "output_type": "stream",
     "text": [
      "done\n"
     ]
    }
   ],
   "source": [
    "num = 53\n",
    "if num > 100:\n",
    "    print('53 is greater than 100')\n",
    "else:\n",
    "    print('done')"
   ]
  },
  {
   "cell_type": "code",
   "execution_count": 24,
   "metadata": {},
   "outputs": [
    {
     "name": "stdout",
     "output_type": "stream",
     "text": [
      "correct\n"
     ]
    }
   ],
   "source": [
    "number = 6\n",
    "if number > 7:\n",
    "    print('false')\n",
    "elif number == 6:\n",
    "    print('correct')\n",
    "else:\n",
    "    print('also correct')"
   ]
  },
  {
   "cell_type": "code",
   "execution_count": 25,
   "metadata": {},
   "outputs": [
    {
     "name": "stdout",
     "output_type": "stream",
     "text": [
      "correct\n",
      "None\n"
     ]
    }
   ],
   "source": [
    "def sign(num):\n",
    "    if num > 7:\n",
    "        print('false')\n",
    "    elif num == 6:\n",
    "        print('correct')\n",
    "    else:\n",
    "        print('also correct')\n",
    "\n",
    "print(sign(6))"
   ]
  },
  {
   "cell_type": "code",
   "execution_count": 31,
   "metadata": {},
   "outputs": [
    {
     "name": "stdout",
     "output_type": "stream",
     "text": [
      "2\n"
     ]
    }
   ],
   "source": [
    "def test(number):\n",
    "    if number > 7:\n",
    "        return 1\n",
    "    elif number == 6:\n",
    "        return 2\n",
    "    else:\n",
    "        return 3\n",
    "print(test(6))"
   ]
  },
  {
   "cell_type": "code",
   "execution_count": 34,
   "metadata": {},
   "outputs": [
    {
     "name": "stdout",
     "output_type": "stream",
     "text": [
      "1\n"
     ]
    }
   ],
   "source": [
    "def character_distance(numb1, numb2):\n",
    "    if numb1 == numb2:\n",
    "        return 0\n",
    "    else:\n",
    "        return 1\n",
    "print(character_distance(\"G\", \"A\"))"
   ]
  },
  {
   "cell_type": "code",
   "execution_count": 37,
   "metadata": {},
   "outputs": [
    {
     "name": "stdout",
     "output_type": "stream",
     "text": [
      "G\n",
      "A\n",
      "C\n",
      "T\n",
      "E\n",
      "S\n",
      "E\n",
      "G\n",
      "S\n",
      "D\n"
     ]
    }
   ],
   "source": [
    "def print_characters(s):\n",
    "    for characters in s:\n",
    "        print(characters)\n",
    "print_characters('GACTESEGSD')"
   ]
  },
  {
   "cell_type": "code",
   "execution_count": 38,
   "metadata": {},
   "outputs": [
    {
     "name": "stdout",
     "output_type": "stream",
     "text": [
      "G\n",
      "A\n",
      "C\n",
      "T\n"
     ]
    }
   ],
   "source": [
    "def print_characters(s):\n",
    "    for char in s:\n",
    "        print(char)\n",
    "print_characters('GACT')"
   ]
  },
  {
   "cell_type": "code",
   "execution_count": 39,
   "metadata": {},
   "outputs": [
    {
     "name": "stdout",
     "output_type": "stream",
     "text": [
      "There are 5 vowels\n"
     ]
    }
   ],
   "source": [
    "count = 0\n",
    "for vowel in \"aeiou\":\n",
    "    count = count + 1\n",
    "print(\"There are\",count,\"vowels\")"
   ]
  },
  {
   "cell_type": "code",
   "execution_count": 40,
   "metadata": {},
   "outputs": [
    {
     "name": "stdout",
     "output_type": "stream",
     "text": [
      "5\n"
     ]
    }
   ],
   "source": [
    "print(count)"
   ]
  },
  {
   "cell_type": "code",
   "execution_count": 45,
   "metadata": {},
   "outputs": [
    {
     "name": "stdout",
     "output_type": "stream",
     "text": [
      "A\n",
      "ACTG\n",
      "ACTG\n",
      "ACTG\n",
      "ACTG\n",
      "C\n",
      "ACTG\n",
      "ACTG\n",
      "ACTG\n",
      "ACTG\n",
      "T\n",
      "ACTG\n",
      "ACTG\n",
      "ACTG\n",
      "ACTG\n",
      "G\n",
      "ACTG\n",
      "ACTG\n",
      "ACTG\n",
      "ACTG\n"
     ]
    }
   ],
   "source": [
    "def print_nucleotides(s):\n",
    "    for characters in s:\n",
    "        print(characters)\n",
    "        for double in \"ACTG\":\n",
    "            print(\"ACTG\")\n",
    "print_nucleotides(\"ACTG\")"
   ]
  },
  {
   "cell_type": "code",
   "execution_count": 46,
   "metadata": {},
   "outputs": [
    {
     "name": "stdout",
     "output_type": "stream",
     "text": [
      "A\n",
      "AA\n",
      "AC\n",
      "AT\n",
      "AG\n",
      "AA\n",
      "AC\n",
      "AT\n",
      "AG\n",
      "AA\n",
      "AC\n",
      "AT\n",
      "AG\n",
      "AA\n",
      "AC\n",
      "AT\n",
      "AG\n",
      "C\n",
      "CA\n",
      "CC\n",
      "CT\n",
      "CG\n",
      "CA\n",
      "CC\n",
      "CT\n",
      "CG\n",
      "CA\n",
      "CC\n",
      "CT\n",
      "CG\n",
      "CA\n",
      "CC\n",
      "CT\n",
      "CG\n",
      "T\n",
      "TA\n",
      "TC\n",
      "TT\n",
      "TG\n",
      "TA\n",
      "TC\n",
      "TT\n",
      "TG\n",
      "TA\n",
      "TC\n",
      "TT\n",
      "TG\n",
      "TA\n",
      "TC\n",
      "TT\n",
      "TG\n",
      "G\n",
      "GA\n",
      "GC\n",
      "GT\n",
      "GG\n",
      "GA\n",
      "GC\n",
      "GT\n",
      "GG\n",
      "GA\n",
      "GC\n",
      "GT\n",
      "GG\n",
      "GA\n",
      "GC\n",
      "GT\n",
      "GG\n"
     ]
    }
   ],
   "source": [
    "def print_nucleotides(s):\n",
    "    for characters in s:\n",
    "        print(characters)\n",
    "        for double in \"ACTG\":\n",
    "            print(characters + \"A\")\n",
    "            print(characters + \"C\")\n",
    "            print(characters + \"T\")\n",
    "            print(characters + \"G\")\n",
    "print_nucleotides(\"ACTG\")"
   ]
  },
  {
   "cell_type": "code",
   "execution_count": 47,
   "metadata": {},
   "outputs": [
    {
     "name": "stdout",
     "output_type": "stream",
     "text": [
      "A\n",
      "AA\n",
      "AC\n",
      "AT\n",
      "AG\n",
      "C\n",
      "CA\n",
      "CC\n",
      "CT\n",
      "CG\n",
      "T\n",
      "TA\n",
      "TC\n",
      "TT\n",
      "TG\n",
      "G\n",
      "GA\n",
      "GC\n",
      "GT\n",
      "GG\n"
     ]
    }
   ],
   "source": [
    "def print_nucleotides(s):\n",
    "    for characters in s:\n",
    "        print(characters)\n",
    "        for double in characters:\n",
    "            print(characters + \" A\")\n",
    "            print(characters + \" C\")\n",
    "            print(characters + \" T\")\n",
    "            print(characters + \" G\")\n",
    "print_nucleotides(\"ACTG\")"
   ]
  },
  {
   "cell_type": "code",
   "execution_count": 49,
   "metadata": {},
   "outputs": [
    {
     "name": "stdout",
     "output_type": "stream",
     "text": [
      "A A\n",
      "A C\n",
      "A G\n",
      "A T\n",
      "C A\n",
      "C C\n",
      "C G\n",
      "C T\n",
      "G A\n",
      "G C\n",
      "G G\n",
      "G T\n",
      "T A\n",
      "T C\n",
      "T G\n",
      "T T\n"
     ]
    }
   ],
   "source": [
    "def print_nucleotides(s):\n",
    "    for characters in s:\n",
    "        for double in characters:\n",
    "            print(characters + \" A\")\n",
    "            print(characters + \" C\")\n",
    "            print(characters + \" G\")\n",
    "            print(characters + \" T\")\n",
    "print_nucleotides(\"ACGT\")"
   ]
  },
  {
   "cell_type": "code",
   "execution_count": 50,
   "metadata": {},
   "outputs": [
    {
     "name": "stdout",
     "output_type": "stream",
     "text": [
      "Hello!\n",
      "Hello!\n",
      "Hello!\n",
      "Hello!\n",
      "Hello!\n"
     ]
    }
   ],
   "source": [
    "for i in range(5):\n",
    "    print('Hello!')"
   ]
  },
  {
   "cell_type": "code",
   "execution_count": 51,
   "metadata": {},
   "outputs": [
    {
     "name": "stdout",
     "output_type": "stream",
     "text": [
      "[0, 1, 2]\n"
     ]
    }
   ],
   "source": [
    "print(list(range(3)))"
   ]
  },
  {
   "cell_type": "code",
   "execution_count": 60,
   "metadata": {},
   "outputs": [
    {
     "name": "stdout",
     "output_type": "stream",
     "text": [
      "1\n",
      "2\n",
      "3\n"
     ]
    }
   ],
   "source": [
    "for i in range(1):\n",
    "    print(1)\n",
    "    print(2)\n",
    "    print(3)"
   ]
  },
  {
   "cell_type": "code",
   "execution_count": 61,
   "metadata": {},
   "outputs": [
    {
     "name": "stdout",
     "output_type": "stream",
     "text": [
      "1\n",
      "2\n"
     ]
    }
   ],
   "source": [
    "for i in range(1):\n",
    "    print(1)\n",
    "    print(2)"
   ]
  },
  {
   "cell_type": "code",
   "execution_count": 62,
   "metadata": {},
   "outputs": [
    {
     "ename": "NameError",
     "evalue": "name 'GAC' is not defined",
     "output_type": "error",
     "traceback": [
      "\u001b[0;31m---------------------------------------------------------------------------\u001b[0m",
      "\u001b[0;31mNameError\u001b[0m                                 Traceback (most recent call last)",
      "\u001b[0;32m<ipython-input-62-d6f12e66aad9>\u001b[0m in \u001b[0;36m<module>\u001b[0;34m()\u001b[0m\n\u001b[0;32m----> 1\u001b[0;31m \u001b[0malign1\u001b[0m \u001b[0;34m=\u001b[0m \u001b[0mGAC\u001b[0m\u001b[0;34m\u001b[0m\u001b[0m\n\u001b[0m\u001b[1;32m      2\u001b[0m \u001b[0malign2\u001b[0m \u001b[0;34m=\u001b[0m \u001b[0mTTC\u001b[0m\u001b[0;34m\u001b[0m\u001b[0m\n\u001b[1;32m      3\u001b[0m \u001b[0;32mfor\u001b[0m \u001b[0mcharacter\u001b[0m \u001b[0;32min\u001b[0m \u001b[0malign1\u001b[0m\u001b[0;34m:\u001b[0m\u001b[0;34m\u001b[0m\u001b[0m\n\u001b[1;32m      4\u001b[0m     \u001b[0mprint\u001b[0m\u001b[0;34m(\u001b[0m\u001b[0malign1\u001b[0m\u001b[0;34m)\u001b[0m\u001b[0;34m\u001b[0m\u001b[0m\n",
      "\u001b[0;31mNameError\u001b[0m: name 'GAC' is not defined"
     ]
    }
   ],
   "source": [
    "align1 = GAC\n",
    "align2 = TTC\n",
    "for character in align1:\n",
    "    print(align1)"
   ]
  },
  {
   "cell_type": "code",
   "execution_count": 72,
   "metadata": {},
   "outputs": [
    {
     "name": "stdout",
     "output_type": "stream",
     "text": [
      "[1]\n"
     ]
    }
   ],
   "source": [
    "align1 = [1]\n",
    "for character in range(1):\n",
    "    print(align1)\n"
   ]
  },
  {
   "cell_type": "code",
   "execution_count": 78,
   "metadata": {},
   "outputs": [
    {
     "name": "stdout",
     "output_type": "stream",
     "text": [
      "a\n",
      "b\n"
     ]
    }
   ],
   "source": [
    "print('a')\n",
    "print('b')"
   ]
  },
  {
   "cell_type": "code",
   "execution_count": 89,
   "metadata": {},
   "outputs": [
    {
     "name": "stdout",
     "output_type": "stream",
     "text": [
      "1\n",
      "2\n",
      "3\n"
     ]
    }
   ],
   "source": [
    "characters = [1, 2, 3]\n",
    "for test in characters:\n",
    "    print(test)"
   ]
  },
  {
   "cell_type": "code",
   "execution_count": 92,
   "metadata": {},
   "outputs": [
    {
     "name": "stdout",
     "output_type": "stream",
     "text": [
      "G  G\n",
      "G  A\n",
      "G  C\n",
      "G  T\n",
      "A  G\n",
      "A  A\n",
      "A  C\n",
      "A  T\n",
      "C  G\n",
      "C  A\n",
      "C  C\n",
      "C  T\n",
      "T  G\n",
      "T  A\n",
      "T  C\n",
      "T  T\n"
     ]
    }
   ],
   "source": [
    "def align(s):\n",
    "    for characters in (s):\n",
    "        for two_lines in characters:\n",
    "            print(characters, \" G\")\n",
    "            print(characters, \" A\")\n",
    "            print(characters, \" C\")\n",
    "            print(characters, \" T\")\n",
    "align('GACT')\n",
    "    "
   ]
  },
  {
   "cell_type": "code",
   "execution_count": 95,
   "metadata": {},
   "outputs": [
    {
     "ename": "IndexError",
     "evalue": "list assignment index out of range",
     "output_type": "error",
     "traceback": [
      "\u001b[0;31m---------------------------------------------------------------------------\u001b[0m",
      "\u001b[0;31mIndexError\u001b[0m                                Traceback (most recent call last)",
      "\u001b[0;32m<ipython-input-95-845b77d0356c>\u001b[0m in \u001b[0;36m<module>\u001b[0;34m()\u001b[0m\n\u001b[1;32m      1\u001b[0m \u001b[0mseq1\u001b[0m \u001b[0;34m=\u001b[0m \u001b[0;34m[\u001b[0m\u001b[0;34m'CAT'\u001b[0m\u001b[0;34m]\u001b[0m\u001b[0;34m\u001b[0m\u001b[0m\n\u001b[1;32m      2\u001b[0m \u001b[0mseq2\u001b[0m \u001b[0;34m=\u001b[0m \u001b[0;34m[\u001b[0m\u001b[0;34m'DOG'\u001b[0m\u001b[0;34m]\u001b[0m\u001b[0;34m\u001b[0m\u001b[0m\n\u001b[0;32m----> 3\u001b[0;31m \u001b[0mseq1\u001b[0m\u001b[0;34m[\u001b[0m\u001b[0;36m1\u001b[0m\u001b[0;34m]\u001b[0m \u001b[0;34m=\u001b[0m \u001b[0;34m'BAT'\u001b[0m\u001b[0;34m\u001b[0m\u001b[0m\n\u001b[0m\u001b[1;32m      4\u001b[0m \u001b[0mprint\u001b[0m\u001b[0;34m(\u001b[0m\u001b[0mseq1\u001b[0m\u001b[0;34m)\u001b[0m\u001b[0;34m\u001b[0m\u001b[0m\n\u001b[1;32m      5\u001b[0m \u001b[0;34m\u001b[0m\u001b[0m\n",
      "\u001b[0;31mIndexError\u001b[0m: list assignment index out of range"
     ]
    }
   ],
   "source": [
    "seq1 = ['CAT']\n",
    "seq2 = ['DOG']\n",
    "seq1[1] = 'BAT'\n",
    "print(seq1)\n",
    "\n",
    "def align(seq1, seq2):\n",
    "    for characters in (seq1, seq2):\n",
    "        for two_lines in characters:\n",
    "            print(len(align))\n",
    "align('CAT', 'DOG')"
   ]
  },
  {
   "cell_type": "code",
   "execution_count": 96,
   "metadata": {},
   "outputs": [
    {
     "name": "stdout",
     "output_type": "stream",
     "text": [
      "names is originally: ['Newton', 'Darwing', 'Turing']\n",
      "final value of names: ['Newton', 'Darwin', 'Turing']\n"
     ]
    }
   ],
   "source": [
    "names = ['Newton', 'Darwing', 'Turing'] # typo in Darwin's name\n",
    "print('names is originally:', names)\n",
    "names[1] = 'Darwin' # correct the name\n",
    "print('final value of names:', names)"
   ]
  },
  {
   "cell_type": "code",
   "execution_count": 97,
   "metadata": {},
   "outputs": [
    {
     "name": "stdout",
     "output_type": "stream",
     "text": [
      "['cat', 'dog']\n"
     ]
    }
   ],
   "source": [
    "name = ['cat', 'dog']\n",
    "print(name)"
   ]
  },
  {
   "cell_type": "code",
   "execution_count": 98,
   "metadata": {},
   "outputs": [
    {
     "name": "stdout",
     "output_type": "stream",
     "text": [
      "['bat', 'dog']\n"
     ]
    }
   ],
   "source": [
    "name[0] = 'bat'\n",
    "print(name)"
   ]
  },
  {
   "cell_type": "code",
   "execution_count": 99,
   "metadata": {},
   "outputs": [
    {
     "name": "stdout",
     "output_type": "stream",
     "text": [
      "['bat', 'dog']\n"
     ]
    }
   ],
   "source": [
    "seq = ['bat', 'dog']\n",
    "print(seq)"
   ]
  },
  {
   "cell_type": "code",
   "execution_count": 157,
   "metadata": {},
   "outputs": [
    {
     "name": "stdout",
     "output_type": "stream",
     "text": [
      "[1, 2, 3] 3\n"
     ]
    },
    {
     "ename": "NameError",
     "evalue": "name 'characters2' is not defined",
     "output_type": "error",
     "traceback": [
      "\u001b[0;31m---------------------------------------------------------------------------\u001b[0m",
      "\u001b[0;31mNameError\u001b[0m                                 Traceback (most recent call last)",
      "\u001b[0;32m<ipython-input-157-448dad0f3cbd>\u001b[0m in \u001b[0;36m<module>\u001b[0;34m()\u001b[0m\n\u001b[1;32m      5\u001b[0m         \u001b[0;32mfor\u001b[0m \u001b[0mdog\u001b[0m \u001b[0;32min\u001b[0m \u001b[0mcharacters2\u001b[0m\u001b[0;34m:\u001b[0m\u001b[0;34m\u001b[0m\u001b[0m\n\u001b[1;32m      6\u001b[0m             \u001b[0mprint\u001b[0m\u001b[0;34m(\u001b[0m\u001b[0mcharacters2\u001b[0m\u001b[0;34m,\u001b[0m \u001b[0mlen\u001b[0m\u001b[0;34m(\u001b[0m\u001b[0mseq2\u001b[0m\u001b[0;34m)\u001b[0m\u001b[0;34m)\u001b[0m\u001b[0;34m\u001b[0m\u001b[0m\n\u001b[0;32m----> 7\u001b[0;31m \u001b[0mprint_pairs\u001b[0m\u001b[0;34m(\u001b[0m\u001b[0;34m'CAT'\u001b[0m\u001b[0;34m,\u001b[0m \u001b[0;34m'DOG'\u001b[0m\u001b[0;34m)\u001b[0m\u001b[0;34m\u001b[0m\u001b[0m\n\u001b[0m",
      "\u001b[0;32m<ipython-input-157-448dad0f3cbd>\u001b[0m in \u001b[0;36mprint_pairs\u001b[0;34m(seq1, seq2)\u001b[0m\n\u001b[1;32m      3\u001b[0m         \u001b[0;32mfor\u001b[0m \u001b[0mcat\u001b[0m \u001b[0;32min\u001b[0m \u001b[0mcharacters1\u001b[0m\u001b[0;34m:\u001b[0m\u001b[0;34m\u001b[0m\u001b[0m\n\u001b[1;32m      4\u001b[0m             \u001b[0mprint\u001b[0m\u001b[0;34m(\u001b[0m\u001b[0mcharacters\u001b[0m\u001b[0;34m,\u001b[0m \u001b[0mlen\u001b[0m\u001b[0;34m(\u001b[0m\u001b[0mseq1\u001b[0m\u001b[0;34m)\u001b[0m\u001b[0;34m)\u001b[0m\u001b[0;34m\u001b[0m\u001b[0m\n\u001b[0;32m----> 5\u001b[0;31m         \u001b[0;32mfor\u001b[0m \u001b[0mdog\u001b[0m \u001b[0;32min\u001b[0m \u001b[0mcharacters2\u001b[0m\u001b[0;34m:\u001b[0m\u001b[0;34m\u001b[0m\u001b[0m\n\u001b[0m\u001b[1;32m      6\u001b[0m             \u001b[0mprint\u001b[0m\u001b[0;34m(\u001b[0m\u001b[0mcharacters2\u001b[0m\u001b[0;34m,\u001b[0m \u001b[0mlen\u001b[0m\u001b[0;34m(\u001b[0m\u001b[0mseq2\u001b[0m\u001b[0;34m)\u001b[0m\u001b[0;34m)\u001b[0m\u001b[0;34m\u001b[0m\u001b[0m\n\u001b[1;32m      7\u001b[0m \u001b[0mprint_pairs\u001b[0m\u001b[0;34m(\u001b[0m\u001b[0;34m'CAT'\u001b[0m\u001b[0;34m,\u001b[0m \u001b[0;34m'DOG'\u001b[0m\u001b[0;34m)\u001b[0m\u001b[0;34m\u001b[0m\u001b[0m\n",
      "\u001b[0;31mNameError\u001b[0m: name 'characters2' is not defined"
     ]
    }
   ],
   "source": [
    "def print_pairs(seq1, seq2):\n",
    "    for characters in seq1:\n",
    "        for cat in characters1:\n",
    "            print(characters1, len(seq1))\n",
    "        for dog in characters:\n",
    "            print(characters, len(seq2))\n",
    "print_pairs('CAT', 'DOG')"
   ]
  },
  {
   "cell_type": "code",
   "execution_count": 105,
   "metadata": {},
   "outputs": [
    {
     "name": "stdout",
     "output_type": "stream",
     "text": [
      "3\n",
      "3\n",
      "3\n",
      "3\n",
      "3\n",
      "3\n"
     ]
    }
   ],
   "source": [
    "def print_pairs(seq1, seq2):\n",
    "    for aligment in seq1:\n",
    "        print(len(seq1))\n",
    "    for dog in characters:\n",
    "        print(len(seq2))\n",
    "print_pairs('CAT', 'DOG')"
   ]
  },
  {
   "cell_type": "code",
   "execution_count": 107,
   "metadata": {},
   "outputs": [
    {
     "name": "stdout",
     "output_type": "stream",
     "text": [
      "CAT\n",
      "CAT\n",
      "CAT\n",
      "DOG\n",
      "DOG\n",
      "DOG\n"
     ]
    }
   ],
   "source": [
    "def print_pairs(seq1, seq2):\n",
    "    for aligment in seq1:\n",
    "        print(seq1)\n",
    "    for dog in characters:\n",
    "        print(seq2)\n",
    "print_pairs('CAT', 'DOG')"
   ]
  },
  {
   "cell_type": "code",
   "execution_count": 120,
   "metadata": {},
   "outputs": [
    {
     "name": "stdout",
     "output_type": "stream",
     "text": [
      "C\n",
      "D\n",
      "O\n",
      "G\n",
      "A\n",
      "D\n",
      "O\n",
      "G\n",
      "T\n",
      "D\n",
      "O\n",
      "G\n"
     ]
    }
   ],
   "source": [
    "def print_pairs(seq1, seq2):\n",
    "    for alignment1 in seq1:\n",
    "        print(alignment1)\n",
    "        for alignment2 in seq2:\n",
    "            print(alignment2)\n",
    "\n",
    "print_pairs('CAT', 'DOG')"
   ]
  },
  {
   "cell_type": "code",
   "execution_count": 111,
   "metadata": {},
   "outputs": [
    {
     "name": "stdout",
     "output_type": "stream",
     "text": [
      "G\n",
      "A\n",
      "C\n",
      "T\n"
     ]
    }
   ],
   "source": [
    "def print_characters(my_string):\n",
    "    for char in my_string:\n",
    "        print(char)\n",
    "\n",
    "print_characters(\"GACT\")"
   ]
  },
  {
   "cell_type": "code",
   "execution_count": 132,
   "metadata": {},
   "outputs": [
    {
     "name": "stdout",
     "output_type": "stream",
     "text": [
      "CAT\n",
      "DOG\n"
     ]
    },
    {
     "ename": "TypeError",
     "evalue": "unsupported operand type(s) for +: 'NoneType' and 'NoneType'",
     "output_type": "error",
     "traceback": [
      "\u001b[0;31m---------------------------------------------------------------------------\u001b[0m",
      "\u001b[0;31mTypeError\u001b[0m                                 Traceback (most recent call last)",
      "\u001b[0;32m<ipython-input-132-6b99cf7bf289>\u001b[0m in \u001b[0;36m<module>\u001b[0;34m()\u001b[0m\n\u001b[1;32m      3\u001b[0m         \u001b[0mprint\u001b[0m\u001b[0;34m(\u001b[0m\u001b[0mseq1\u001b[0m\u001b[0;34m)\u001b[0m \u001b[0;34m+\u001b[0m \u001b[0mprint\u001b[0m\u001b[0;34m(\u001b[0m\u001b[0mseq2\u001b[0m\u001b[0;34m)\u001b[0m\u001b[0;34m\u001b[0m\u001b[0m\n\u001b[1;32m      4\u001b[0m \u001b[0;34m\u001b[0m\u001b[0m\n\u001b[0;32m----> 5\u001b[0;31m \u001b[0mprint_pairs\u001b[0m\u001b[0;34m(\u001b[0m\u001b[0;34m'CAT'\u001b[0m\u001b[0;34m,\u001b[0m \u001b[0;34m'DOG'\u001b[0m\u001b[0;34m)\u001b[0m\u001b[0;34m\u001b[0m\u001b[0m\n\u001b[0m",
      "\u001b[0;32m<ipython-input-132-6b99cf7bf289>\u001b[0m in \u001b[0;36mprint_pairs\u001b[0;34m(seq1, seq2)\u001b[0m\n\u001b[1;32m      1\u001b[0m \u001b[0;32mdef\u001b[0m \u001b[0mprint_pairs\u001b[0m\u001b[0;34m(\u001b[0m\u001b[0mseq1\u001b[0m\u001b[0;34m,\u001b[0m \u001b[0mseq2\u001b[0m\u001b[0;34m)\u001b[0m\u001b[0;34m:\u001b[0m\u001b[0;34m\u001b[0m\u001b[0m\n\u001b[1;32m      2\u001b[0m     \u001b[0;32mfor\u001b[0m \u001b[0malignment1\u001b[0m \u001b[0;32min\u001b[0m \u001b[0mseq1\u001b[0m\u001b[0;34m:\u001b[0m\u001b[0;34m\u001b[0m\u001b[0m\n\u001b[0;32m----> 3\u001b[0;31m         \u001b[0mprint\u001b[0m\u001b[0;34m(\u001b[0m\u001b[0mseq1\u001b[0m\u001b[0;34m)\u001b[0m \u001b[0;34m+\u001b[0m \u001b[0mprint\u001b[0m\u001b[0;34m(\u001b[0m\u001b[0mseq2\u001b[0m\u001b[0;34m)\u001b[0m\u001b[0;34m\u001b[0m\u001b[0m\n\u001b[0m\u001b[1;32m      4\u001b[0m \u001b[0;34m\u001b[0m\u001b[0m\n\u001b[1;32m      5\u001b[0m \u001b[0mprint_pairs\u001b[0m\u001b[0;34m(\u001b[0m\u001b[0;34m'CAT'\u001b[0m\u001b[0;34m,\u001b[0m \u001b[0;34m'DOG'\u001b[0m\u001b[0;34m)\u001b[0m\u001b[0;34m\u001b[0m\u001b[0m\n",
      "\u001b[0;31mTypeError\u001b[0m: unsupported operand type(s) for +: 'NoneType' and 'NoneType'"
     ]
    }
   ],
   "source": [
    "def print_pairs(seq1, seq2):\n",
    "    for alignment1 in seq1:\n",
    "        print(seq1) + print(seq2)\n",
    "\n",
    "print_pairs('CAT', 'DOG')"
   ]
  },
  {
   "cell_type": "code",
   "execution_count": 136,
   "metadata": {},
   "outputs": [
    {
     "name": "stdout",
     "output_type": "stream",
     "text": [
      "C\n",
      "A\n",
      "T\n",
      "D\n",
      "O\n",
      "G\n"
     ]
    }
   ],
   "source": [
    "def print_pairs(seq1, seq2):\n",
    "    for alignment1 in seq1:\n",
    "        print(alignment1)\n",
    "    for alignment2 in seq2:\n",
    "        print(alignment2)\n",
    "\n",
    "print_pairs('CAT', 'DOG')"
   ]
  },
  {
   "cell_type": "code",
   "execution_count": 137,
   "metadata": {},
   "outputs": [
    {
     "name": "stdout",
     "output_type": "stream",
     "text": [
      "C\n",
      "A\n",
      "T\n"
     ]
    }
   ],
   "source": [
    "def print_pairs(seq1):\n",
    "    for alignment1 in seq1:\n",
    "        print(alignment1)\n",
    "\n",
    "print_pairs('CAT')"
   ]
  },
  {
   "cell_type": "code",
   "execution_count": 145,
   "metadata": {},
   "outputs": [
    {
     "name": "stdout",
     "output_type": "stream",
     "text": [
      "C\n",
      "D\n",
      "O\n",
      "G\n",
      "A\n",
      "D\n",
      "O\n",
      "G\n",
      "T\n",
      "D\n",
      "O\n",
      "G\n"
     ]
    }
   ],
   "source": [
    "def print_pairs(seq1, seq2):\n",
    "    for characters1 in (seq1):\n",
    "        for first_column in characters1:\n",
    "            print(characters1)\n",
    "        for characters2 in (seq2):\n",
    "            for second_column in characters2:\n",
    "                print(characters2)\n",
    "print_pairs('CAT', 'DOG')"
   ]
  },
  {
   "cell_type": "code",
   "execution_count": 146,
   "metadata": {},
   "outputs": [
    {
     "name": "stdout",
     "output_type": "stream",
     "text": [
      "C D\n",
      "A O\n",
      "T G\n"
     ]
    }
   ],
   "source": [
    "def print_pairs(seq1, seq2):\n",
    "    for x, y in zip(seq1, seq2):\n",
    "        print(x, y)\n",
    "\n",
    "print_pairs('CAT', 'DOG')"
   ]
  },
  {
   "cell_type": "code",
   "execution_count": 147,
   "metadata": {},
   "outputs": [
    {
     "name": "stdout",
     "output_type": "stream",
     "text": [
      "C D\n",
      "A O\n",
      "T G\n"
     ]
    }
   ],
   "source": [
    "x = 'CAT'\n",
    "y = 'DOG'\n",
    "print(x[0], y[0])\n",
    "print(x[1], y[1])\n",
    "print(x[2], y[2])"
   ]
  },
  {
   "cell_type": "code",
   "execution_count": 148,
   "metadata": {},
   "outputs": [
    {
     "data": {
      "text/plain": [
       "range(0, 3)"
      ]
     },
     "execution_count": 148,
     "metadata": {},
     "output_type": "execute_result"
    }
   ],
   "source": [
    "range(0, 3)"
   ]
  },
  {
   "cell_type": "code",
   "execution_count": 150,
   "metadata": {},
   "outputs": [
    {
     "name": "stdout",
     "output_type": "stream",
     "text": [
      "2\n",
      "3\n",
      "4\n",
      "5\n",
      "6\n"
     ]
    }
   ],
   "source": [
    "for x in range(2, 7):\n",
    "    print(x)"
   ]
  },
  {
   "cell_type": "code",
   "execution_count": 155,
   "metadata": {},
   "outputs": [
    {
     "name": "stdout",
     "output_type": "stream",
     "text": [
      "0 C D\n",
      "1 A O\n",
      "2 T G\n",
      "3 G V\n",
      "4 F F\n",
      "5 R F\n"
     ]
    }
   ],
   "source": [
    "x = 'CATGFR'\n",
    "y = 'DOGVFF'\n",
    "for z in range(0, len(x)):\n",
    "    print(z, x[z], y[z])\n",
    "    "
   ]
  },
  {
   "cell_type": "code",
   "execution_count": 154,
   "metadata": {},
   "outputs": [
    {
     "name": "stdout",
     "output_type": "stream",
     "text": [
      "5\n"
     ]
    }
   ],
   "source": [
    "print(z)"
   ]
  },
  {
   "cell_type": "code",
   "execution_count": 159,
   "metadata": {},
   "outputs": [
    {
     "name": "stdout",
     "output_type": "stream",
     "text": [
      "0 h m\n",
      "1 a a\n",
      "2 k t\n",
      "3 u a\n",
      "4 n t\n",
      "5 a a\n"
     ]
    }
   ],
   "source": [
    "x = 'hakuna'\n",
    "y = 'matata'\n",
    "for z in range(0, len(x)):\n",
    "    print(z, x[z], y[z])\n"
   ]
  },
  {
   "cell_type": "code",
   "execution_count": null,
   "metadata": {},
   "outputs": [],
   "source": []
  }
 ],
 "metadata": {
  "kernelspec": {
   "display_name": "Python 3",
   "language": "python",
   "name": "python3"
  },
  "language_info": {
   "codemirror_mode": {
    "name": "ipython",
    "version": 3
   },
   "file_extension": ".py",
   "mimetype": "text/x-python",
   "name": "python",
   "nbconvert_exporter": "python",
   "pygments_lexer": "ipython3",
   "version": "3.6.5"
  }
 },
 "nbformat": 4,
 "nbformat_minor": 2
}
